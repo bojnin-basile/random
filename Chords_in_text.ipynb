{
 "cells": [
  {
   "cell_type": "markdown",
   "metadata": {},
   "source": [
    "# Chords in text"
   ]
  },
  {
   "cell_type": "code",
   "execution_count": 106,
   "metadata": {},
   "outputs": [
    {
     "name": "stdout",
     "output_type": "stream",
     "text": [
      "\n",
      "    hey there\n",
      "    \n",
      "    [III]\n",
      "    [II]\n",
      "    [IV]\n",
      "    [V]\n",
      "    [iii]\n",
      "    [ii]\n",
      "    [VII::chord]\n",
      "    [iii][vii][iv][ii][i]\n",
      "\n"
     ]
    }
   ],
   "source": [
    "inputText = \"\"\"\n",
    "    \n",
    "    [III]\n",
    "    [II]\n",
    "    [IV]\n",
    "    [V]\n",
    "    [iii]\n",
    "    [ii]\n",
    "    [VII::chord]\n",
    "    [iii][vii][iv][ii][i]\n",
    "\"\"\"\n",
    "print(inputText)"
   ]
  },
  {
   "cell_type": "code",
   "execution_count": 107,
   "metadata": {},
   "outputs": [
    {
     "name": "stdout",
     "output_type": "stream",
     "text": [
      "\n",
      "    hey there\n",
      "    \n",
      "    [Ⅲ]\n",
      "    [Ⅱ]\n",
      "    [Ⅳ]\n",
      "    [Ⅴ]\n",
      "    [ⅲ]\n",
      "    [ⅱ]\n",
      "    [Ⅶ::chord]\n",
      "    [ⅲ][ⅶ][ⅰv][ⅱ][ⅰ]\n",
      "\n"
     ]
    }
   ],
   "source": [
    "substitutions = [\n",
    "    ('[III','[Ⅲ'),\n",
    "    ('[VII','[Ⅶ'),\n",
    "    (\"[II\",\"[Ⅱ\"),\n",
    "    ('[IV','[Ⅳ'),\n",
    "    ('[VI','[Ⅵ'),\n",
    "    (\"[I\", \"[Ⅰ\"),\n",
    "    ('[V','[Ⅴ'),\n",
    "    ('iii','ⅲ'),\n",
    "    ('[vii','[ⅶ'),\n",
    "    ('[ii','[ⅱ'),\n",
    "    ('[vi','[ⅵ'),\n",
    "    ('[i','[ⅰ'),\n",
    "    ('[v','[ⅴ')\n",
    "     ]\n",
    "\n",
    "for search, replacement in substitutions:\n",
    "    outputText=inputText.replace(search, replacement);\n",
    "    #print('output' + outputText);\n",
    "    #print('input'+inputText);\n",
    "    inputText = outputText;\n",
    "print(inputText)"
   ]
  },
  {
   "cell_type": "code",
   "execution_count": 39,
   "metadata": {},
   "outputs": [
    {
     "data": {
      "text/plain": [
       "'\\n    ho there\\n    ⅠⅤ\\n    ⅠⅠ\\n    ⅴⅰ\\n'"
      ]
     },
     "execution_count": 39,
     "metadata": {},
     "output_type": "execute_result"
    }
   ],
   "source": [
    "replace('iv','ⅳ') \\\n",
    "                      .replace('v','ⅴ').replace('vi','ⅵ').replace('vii','ⅶ');\n",
    "outputText"
   ]
  },
  {
   "cell_type": "code",
   "execution_count": null,
   "metadata": {},
   "outputs": [],
   "source": []
  }
 ],
 "metadata": {
  "kernelspec": {
   "display_name": "Python 3",
   "language": "python",
   "name": "python3"
  },
  "language_info": {
   "codemirror_mode": {
    "name": "ipython",
    "version": 3
   },
   "file_extension": ".py",
   "mimetype": "text/x-python",
   "name": "python",
   "nbconvert_exporter": "python",
   "pygments_lexer": "ipython3",
   "version": "3.8.5"
  }
 },
 "nbformat": 4,
 "nbformat_minor": 4
}
